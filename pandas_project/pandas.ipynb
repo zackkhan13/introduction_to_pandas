{
 "cells": [
  {
   "cell_type": "code",
   "execution_count": 2,
   "id": "b365f7e1",
   "metadata": {},
   "outputs": [],
   "source": [
    "import pandas as pd"
   ]
  },
  {
   "cell_type": "markdown",
   "id": "f2f170e4",
   "metadata": {},
   "source": [
    "Adding data using a dictionary"
   ]
  },
  {
   "cell_type": "code",
   "execution_count": 16,
   "id": "db217131",
   "metadata": {},
   "outputs": [],
   "source": [
    "df1 = pd.DataFrame({'Product ID': [0o1, 0o2, 0o3],\n",
    "                  'Product name':['Hat', 'shoe', 'pant'],\n",
    "                  'Color':['Black', 'Blue', 'Blue']})"
   ]
  },
  {
   "cell_type": "code",
   "execution_count": 17,
   "id": "8e9fe998",
   "metadata": {},
   "outputs": [
    {
     "name": "stdout",
     "output_type": "stream",
     "text": [
      "   Product ID Product name  Color\n",
      "0           1          Hat  Black\n",
      "1           2         shoe   Blue\n",
      "2           3         pant   Blue\n"
     ]
    }
   ],
   "source": [
    "print(df1)"
   ]
  },
  {
   "cell_type": "markdown",
   "id": "0232bb3e",
   "metadata": {},
   "source": [
    "Adding data using list"
   ]
  },
  {
   "cell_type": "code",
   "execution_count": 20,
   "id": "5f1d8a5c",
   "metadata": {},
   "outputs": [],
   "source": [
    "df2 = pd.DataFrame([\n",
    "  [1, 'San Diego', 100],\n",
    "  [2, 'Los Angeles', 120],\n",
    "  [3, 'San Francisco', 90],\n",
    "  [4, 'Sacramento', 115]\n",
    "],\n",
    "  columns=['Store ID', 'Location', 'Number of Employees'\n",
    "  ])"
   ]
  },
  {
   "cell_type": "code",
   "execution_count": 21,
   "id": "959b077a",
   "metadata": {},
   "outputs": [
    {
     "name": "stdout",
     "output_type": "stream",
     "text": [
      "   Store ID       Location  Number of Employees\n",
      "0         1      San Diego                  100\n",
      "1         2    Los Angeles                  120\n",
      "2         3  San Francisco                   90\n",
      "3         4     Sacramento                  115\n"
     ]
    }
   ],
   "source": [
    "print(df2)"
   ]
  },
  {
   "cell_type": "markdown",
   "id": "a6c12c40",
   "metadata": {},
   "source": [
    "Adding Data using a .csv file"
   ]
  },
  {
   "cell_type": "code",
   "execution_count": 32,
   "id": "e872ef17",
   "metadata": {},
   "outputs": [],
   "source": [
    "rec_df = pd.read_csv('Recreation_Summer_Camps.csv') #loading a csv file into a dataframe"
   ]
  },
  {
   "cell_type": "code",
   "execution_count": 21,
   "id": "1bdddde8",
   "metadata": {},
   "outputs": [
    {
     "name": "stdout",
     "output_type": "stream",
     "text": [
      "  Season Primary Category  Secondary Category  \\\n",
      "0   Camp            Camps  Specialty Programs   \n",
      "1   Camp            Camps     Arts and Crafts   \n",
      "2   Camp            Camps        Multi-Sports   \n",
      "3   Camp            Camps  Specialty Programs   \n",
      "4   Camp            Camps        Multi-Sports   \n",
      "\n",
      "                                        ActivityName  \\\n",
      "0                       CORE American Girl Doll Camp   \n",
      "1                                      Treasure Hunt   \n",
      "2                              KIDspired Summer Camp   \n",
      "3                                CORE Aerospace Camp   \n",
      "4  Jump Start Sports Wk 2 Sports Camp - College D...   \n",
      "\n",
      "                                         Description ActivityNumber  \\\n",
      "0  This camp is hands-on and full of easy crafts....     R05301_401   \n",
      "1  For program description click on each activity...     R05130_412   \n",
      "2  KIDspired offers before and after-school club ...     R05289_404   \n",
      "3  Follow the history of flight from early balloo...     R05301_409   \n",
      "4  Kick off summer with Jump Start Sports by part...     R05063_411   \n",
      "\n",
      "        Ages                             Location                 Address  \\\n",
      "0  Ages 6-11  Potomac Community Recreation Center        11315 Falls Road   \n",
      "1   Ages 3-5  Potomac Community Recreation Center        11315 Falls Road   \n",
      "2  Ages 5-13        Wims Wilson Elementary School    12520 Blue Sky Drive   \n",
      "3  Ages 6-13  Carderock Springs Elementary School  7401 Persimmon Tree LN   \n",
      "4  Ages 6-12     Capital View-Homewood Local Park        2929 Edgewood RD   \n",
      "\n",
      "         City State      Zip  Start Date    End Date Start Time  End Time  \\\n",
      "0     Potomac    MD  20854.0  06/21/2022  06/24/2022    9:00 am  12:00 PM   \n",
      "1     Potomac    MD  20854.0  08/15/2022  08/19/2022    9:00 am  12:00 PM   \n",
      "2  Clarksburg    MD  20882.0  07/18/2022  07/22/2022    8:30 am   4:00 pm   \n",
      "3    Bethesda    MD  20817.0  07/11/2022  07/15/2022    1:00 pm   4:00 pm   \n",
      "4  Kensington    MD  20895.0  06/27/2022  07/01/2022    9:00 am   3:30 pm   \n",
      "\n",
      "   Sessions Days of the Week  Cost  \\\n",
      "0         4        Tu,W,Th,F   160   \n",
      "1         5      M,Tu,W,Th,F   235   \n",
      "2         5      M,Tu,W,Th,F   299   \n",
      "3         5      M,Tu,W,Th,F   199   \n",
      "4         4         M,W,Th,F   200   \n",
      "\n",
      "                                    Address/Location  \n",
      "0  11315 Falls Road\\nPotomac, MD 20854\\n(39.04122...  \n",
      "1  11315 Falls Road\\nPotomac, MD 20854\\n(39.04122...  \n",
      "2  12520 Blue Sky Drive\\nClarksburg, MD 20882\\n(3...  \n",
      "3  7401 Persimmon Tree LN\\nBethesda, MD 20817\\n(3...  \n",
      "4  2929 Edgewood RD\\nKensington, MD 20895\\n(39.02...  \n"
     ]
    }
   ],
   "source": [
    "print(rec_df.head())"
   ]
  },
  {
   "cell_type": "code",
   "execution_count": 7,
   "id": "64331fb7",
   "metadata": {},
   "outputs": [
    {
     "name": "stdout",
     "output_type": "stream",
     "text": [
      "<class 'pandas.core.frame.DataFrame'>\n",
      "RangeIndex: 340 entries, 0 to 339\n",
      "Data columns (total 20 columns):\n",
      " #   Column              Non-Null Count  Dtype  \n",
      "---  ------              --------------  -----  \n",
      " 0   Season              340 non-null    object \n",
      " 1   Primary Category    340 non-null    object \n",
      " 2   Secondary Category  314 non-null    object \n",
      " 3   ActivityName        340 non-null    object \n",
      " 4   Description         333 non-null    object \n",
      " 5   ActivityNumber      340 non-null    object \n",
      " 6   Ages                337 non-null    object \n",
      " 7   Location            340 non-null    object \n",
      " 8   Address             334 non-null    object \n",
      " 9   City                332 non-null    object \n",
      " 10  State               334 non-null    object \n",
      " 11  Zip                 332 non-null    float64\n",
      " 12  Start Date          340 non-null    object \n",
      " 13  End Date            340 non-null    object \n",
      " 14  Start Time          340 non-null    object \n",
      " 15  End Time            340 non-null    object \n",
      " 16  Sessions            340 non-null    int64  \n",
      " 17  Days of the Week    340 non-null    object \n",
      " 18  Cost                340 non-null    int64  \n",
      " 19  Address/Location    334 non-null    object \n",
      "dtypes: float64(1), int64(2), object(17)\n",
      "memory usage: 53.2+ KB\n",
      "None\n"
     ]
    }
   ],
   "source": [
    "print(rec_df.info())  #summary of the dataset"
   ]
  },
  {
   "cell_type": "code",
   "execution_count": 8,
   "id": "27c8ff17",
   "metadata": {},
   "outputs": [],
   "source": [
    "season = rec_df['Season'] #selecting a column"
   ]
  },
  {
   "cell_type": "code",
   "execution_count": 9,
   "id": "e9f5d654",
   "metadata": {},
   "outputs": [
    {
     "name": "stdout",
     "output_type": "stream",
     "text": [
      "<class 'pandas.core.series.Series'>\n"
     ]
    }
   ],
   "source": [
    "print(type(season))"
   ]
  },
  {
   "cell_type": "code",
   "execution_count": 10,
   "id": "00c67027",
   "metadata": {},
   "outputs": [
    {
     "name": "stdout",
     "output_type": "stream",
     "text": [
      "0      Camp\n",
      "1      Camp\n",
      "2      Camp\n",
      "3      Camp\n",
      "4      Camp\n",
      "       ... \n",
      "335    Camp\n",
      "336    Camp\n",
      "337    Camp\n",
      "338    Camp\n",
      "339    Camp\n",
      "Name: Season, Length: 340, dtype: object\n"
     ]
    }
   ],
   "source": [
    "print(season)"
   ]
  },
  {
   "cell_type": "code",
   "execution_count": 11,
   "id": "465b1e4b",
   "metadata": {},
   "outputs": [],
   "source": [
    "start_end = rec_df[['Start Time', 'End Time']] #selecting multiple columns"
   ]
  },
  {
   "cell_type": "code",
   "execution_count": 12,
   "id": "f9883e80",
   "metadata": {},
   "outputs": [
    {
     "name": "stdout",
     "output_type": "stream",
     "text": [
      "    Start Time  End Time\n",
      "0      9:00 am  12:00 PM\n",
      "1      9:00 am  12:00 PM\n",
      "2      8:30 am   4:00 pm\n",
      "3      1:00 pm   4:00 pm\n",
      "4      9:00 am   3:30 pm\n",
      "..         ...       ...\n",
      "335    9:00 am   4:00 pm\n",
      "336    1:00 pm   4:00 pm\n",
      "337    3:30 pm   6:00 pm\n",
      "338    9:15 am   3:30 pm\n",
      "339    8:00 am   6:00 pm\n",
      "\n",
      "[340 rows x 2 columns]\n"
     ]
    }
   ],
   "source": [
    "print(start_end)"
   ]
  },
  {
   "cell_type": "code",
   "execution_count": 13,
   "id": "71fac09b",
   "metadata": {},
   "outputs": [],
   "source": [
    "first_row = rec_df.iloc[0] #selecting a row"
   ]
  },
  {
   "cell_type": "code",
   "execution_count": 14,
   "id": "3f58c8e6",
   "metadata": {},
   "outputs": [
    {
     "name": "stdout",
     "output_type": "stream",
     "text": [
      "Season                                                             Camp\n",
      "Primary Category                                                  Camps\n",
      "Secondary Category                                   Specialty Programs\n",
      "ActivityName                               CORE American Girl Doll Camp\n",
      "Description           This camp is hands-on and full of easy crafts....\n",
      "ActivityNumber                                               R05301_401\n",
      "Ages                                                          Ages 6-11\n",
      "Location                            Potomac Community Recreation Center\n",
      "Address                                                11315 Falls Road\n",
      "City                                                            Potomac\n",
      "State                                                                MD\n",
      "Zip                                                             20854.0\n",
      "Start Date                                                   06/21/2022\n",
      "End Date                                                     06/24/2022\n",
      "Start Time                                                      9:00 am\n",
      "End Time                                                       12:00 PM\n",
      "Sessions                                                              4\n",
      "Days of the Week                                              Tu,W,Th,F\n",
      "Cost                                                                160\n",
      "Address/Location      11315 Falls Road\\nPotomac, MD 20854\\n(39.04122...\n",
      "Name: 0, dtype: object\n"
     ]
    }
   ],
   "source": [
    "print(first_row)"
   ]
  },
  {
   "cell_type": "code",
   "execution_count": 17,
   "id": "8469b293",
   "metadata": {},
   "outputs": [],
   "source": [
    "first_second_rows = rec_df.iloc[0:1] #selecting multiple rows"
   ]
  },
  {
   "cell_type": "code",
   "execution_count": 16,
   "id": "5fdd4a58",
   "metadata": {},
   "outputs": [
    {
     "name": "stdout",
     "output_type": "stream",
     "text": [
      "  Season Primary Category  Secondary Category                  ActivityName  \\\n",
      "0   Camp            Camps  Specialty Programs  CORE American Girl Doll Camp   \n",
      "\n",
      "                                         Description ActivityNumber  \\\n",
      "0  This camp is hands-on and full of easy crafts....     R05301_401   \n",
      "\n",
      "        Ages                             Location           Address     City  \\\n",
      "0  Ages 6-11  Potomac Community Recreation Center  11315 Falls Road  Potomac   \n",
      "\n",
      "  State      Zip  Start Date    End Date Start Time  End Time  Sessions  \\\n",
      "0    MD  20854.0  06/21/2022  06/24/2022    9:00 am  12:00 PM         4   \n",
      "\n",
      "  Days of the Week  Cost                                   Address/Location  \n",
      "0        Tu,W,Th,F   160  11315 Falls Road\\nPotomac, MD 20854\\n(39.04122...  \n"
     ]
    }
   ],
   "source": [
    "print(first_second_rows)"
   ]
  },
  {
   "cell_type": "code",
   "execution_count": 22,
   "id": "a21af13f",
   "metadata": {},
   "outputs": [],
   "source": [
    "rec_dftree = [rec_df.Cost <= 160]"
   ]
  },
  {
   "cell_type": "code",
   "execution_count": 23,
   "id": "5445549d",
   "metadata": {},
   "outputs": [
    {
     "name": "stdout",
     "output_type": "stream",
     "text": [
      "[0       True\n",
      "1      False\n",
      "2      False\n",
      "3      False\n",
      "4      False\n",
      "       ...  \n",
      "335     True\n",
      "336     True\n",
      "337     True\n",
      "338    False\n",
      "339    False\n",
      "Name: Cost, Length: 340, dtype: bool]\n"
     ]
    }
   ],
   "source": [
    "print(rec_dftree)"
   ]
  },
  {
   "cell_type": "code",
   "execution_count": 28,
   "id": "36407d69",
   "metadata": {},
   "outputs": [],
   "source": [
    "example = rec_df[rec_df.City == 'Rockville']"
   ]
  },
  {
   "cell_type": "code",
   "execution_count": 29,
   "id": "f1489273",
   "metadata": {},
   "outputs": [
    {
     "name": "stdout",
     "output_type": "stream",
     "text": [
      "    Season Primary Category                      Secondary Category  \\\n",
      "12    Camp            Camps                            Multi-Sports   \n",
      "14    Camp            Camps                                   Rugby   \n",
      "15    Camp            Camps      Service Learning Opportunities SSL   \n",
      "16    Camp            Camps                            Multi-Sports   \n",
      "20    Camp            Camps                      Playtime and Music   \n",
      "23    Camp            Camps          Therapeutic Recreation Program   \n",
      "35    Camp            Camps                                   Rugby   \n",
      "36    Camp            Camps      Service Learning Opportunities SSL   \n",
      "49    Camp            Camps          Therapeutic Recreation Program   \n",
      "73    Camp            Camps          Therapeutic Recreation Program   \n",
      "94    Camp            Camps                            Multi-Sports   \n",
      "95    Camp            Camps          Therapeutic Recreation Program   \n",
      "114   Camp            Camps                      Specialty Programs   \n",
      "123   Camp            Camps          Therapeutic Recreation Program   \n",
      "132   Camp            Camps                            Multi-Sports   \n",
      "174   Camp            Camps                            Multi-Sports   \n",
      "192   Camp            Camps                            Multi-Sports   \n",
      "214   Camp            Camps          Therapeutic Recreation Program   \n",
      "217   Camp            Camps                      Playtime and Music   \n",
      "222   Camp            Camps                      Specialty Programs   \n",
      "227   Camp            Camps          Therapeutic Recreation Program   \n",
      "244   Camp            Camps      Service Learning Opportunities SSL   \n",
      "261   Camp            Camps          Therapeutic Recreation Program   \n",
      "267   Camp            Camps  Nature Outdoors Exploration and Skills   \n",
      "275   Camp            Camps                                   Rugby   \n",
      "282   Camp            Camps          Therapeutic Recreation Program   \n",
      "295   Camp            Camps                                   Rugby   \n",
      "306   Camp            Camps                                     NaN   \n",
      "314   Camp            Camps                            Multi-Sports   \n",
      "315   Camp            Camps                            Multi-Sports   \n",
      "316   Camp            Camps                      Specialty Programs   \n",
      "317   Camp            Camps                                   Rugby   \n",
      "335   Camp            Camps          Therapeutic Recreation Program   \n",
      "338   Camp            Camps                      Specialty Programs   \n",
      "339   Camp            Camps                       Summer Fun Center   \n",
      "\n",
      "                                          ActivityName  \\\n",
      "12   Jump Start Sports Wk 2 Sports Camp - Ultimate ...   \n",
      "14                    Introduction to Tackle Rugby 101   \n",
      "15                     Jr. Counselor - Bauer Drive SFC   \n",
      "16   Jump Start Sports Wk 5 Sports Camp - Hoop-It-U...   \n",
      "20                                    Summer Music Fun   \n",
      "23               TR Summer Fun Zone - Youth Afternoons   \n",
      "35                    Introduction to Tackle Rugby 101   \n",
      "36                     Jr. Counselor - Bauer Drive SFC   \n",
      "49              TR Summer Fun Zone Wrap Around - Teens   \n",
      "73              TR Summer Fun Zone Wrap Around - Youth   \n",
      "94   Jump Start Sports Wk 6 Sports Camp - Track & F...   \n",
      "95                 TR Summer Fun Zone - Youth Full Day   \n",
      "114                            Horses, Sports and More   \n",
      "123                 TR Summer Fun Zone - Teen Full Day   \n",
      "132  Jump Start Sports Wk 4 Sports Camp - Olympics ...   \n",
      "174                 Jump Start Sports 7 wk Sports Camp   \n",
      "192  Jump Start Sports Wk 3 Sports Camp - Flag Foot...   \n",
      "214             TR Summer Fun Zone Wrap Around - Teens   \n",
      "217                                   Summer Music Fun   \n",
      "222                            Horses, Sports and More   \n",
      "227             TR Summer Fun Zone Wrap Around - Teens   \n",
      "244                    Jr. Counselor - Bauer Drive SFC   \n",
      "261             TR Summer Fun Zone Wrap Around - Youth   \n",
      "267  Summer Outdoor Adventure at Rock Creek Recreat...   \n",
      "275                   Introduction to Tackle Rugby 101   \n",
      "282               TR Summer Fun Zone - Teen Afternoons   \n",
      "295                                          Rugby 101   \n",
      "306        Camp Rec at Wheaton Woods Elementary School   \n",
      "314  Jump Start Sports Wk 7 Sports Camp - College D...   \n",
      "315  Jump Start Sports Wk 1 Sports Camp - World Cup...   \n",
      "316                              Horseback Riding Camp   \n",
      "317                                          Rugby 101   \n",
      "335             TR Summer Fun Zone Wrap Around - Youth   \n",
      "338                              Horseback Riding Camp   \n",
      "339                 Summer Fun Center - Bauer Drive RC   \n",
      "\n",
      "                                           Description ActivityNumber  \\\n",
      "12   Join Jump Start Sports for a fun all-around su...     R05063_403   \n",
      "14   Introduction to Rugby 101 taught by Bethesda R...     R05098_404   \n",
      "15   See what it takes to be a camp counselor by be...     R03011_433   \n",
      "16   Join Jump Start Sports for a fun all-around su...     R05063_406   \n",
      "20   Learn all about music this summer through play...     R05305_405   \n",
      "23   TR Summer Fun Zone - for individuals with disa...     R06001_403   \n",
      "35   Introduction to Rugby 101 taught by Bethesda R...     R05098_405   \n",
      "36   See what it takes to be a camp counselor by be...     R03011_431   \n",
      "49   TR Summer Fun Zone - for individuals with disa...     R06001_409   \n",
      "73   TR Summer Fun Zone - for individuals with disa...     R06001_407   \n",
      "94   Join Jump Start Sports for a fun all-around su...     R05063_407   \n",
      "95   TR Summer Fun Zone - for individuals with disa...     R06001_401   \n",
      "114  Children will swim twice daily, horseback ride...     R05056_405   \n",
      "123  TR Summer Fun Zone - for individuals with disa...     R06001_402   \n",
      "132  Join Jump Start Sports for a fun all-around su...     R05063_405   \n",
      "174  Join Jump Start Sports for a fun all-around su...     R05063_401   \n",
      "192  Join Jump Start Sports for a fun all-around su...     R05063_404   \n",
      "214  TR Summer Fun Zone - for individuals with disa...     R06001_408   \n",
      "217  Learn all about music this summer through play...     R05305_404   \n",
      "222  Children will swim twice daily, horseback ride...     R05056_404   \n",
      "227  TR Summer Fun Zone - for individuals with disa...     R06001_410   \n",
      "244  See what it takes to be a camp counselor by be...     R03011_432   \n",
      "261  TR Summer Fun Zone - for individuals with disa...     R06001_405   \n",
      "267  Live the life of adventure. We created a campe...     R05109_401   \n",
      "275  Introduction to Rugby 101 taught by Bethesda R...     R05098_406   \n",
      "282  TR Summer Fun Zone - for individuals with disa...     R06001_404   \n",
      "295   Rugby 101 taught by Bethesda Rooster instructors     R05098_402   \n",
      "306  Camp Rec is only available to students attendi...     R05107_417   \n",
      "314  Join Jump Start Sports for a fun all-around su...     R05063_408   \n",
      "315  Kick off summer with Jump Start Sports by part...     R05063_402   \n",
      "316  Children will ride, swim every day, and do var...     R05056_401   \n",
      "317   Rugby 101 taught by Bethesda Rooster instructors     R05098_403   \n",
      "335  TR Summer Fun Zone - for individuals with disa...     R06001_406   \n",
      "338  Children will ride, swim every day, and do var...     R05056_402   \n",
      "339  Summer Fun Centers are one of the many Montgom...     R03006_411   \n",
      "\n",
      "           Ages                                          Location  \\\n",
      "12    Ages 6-12  Nancy H Dacek North Potomac Community Rec Center   \n",
      "14   Ages 10-18           Bauer Drive Community Recreation Center   \n",
      "15   Ages 14-16           Bauer Drive Community Recreation Center   \n",
      "16    Ages 6-12  Nancy H Dacek North Potomac Community Rec Center   \n",
      "20   Ages 10-12                                   School of Music   \n",
      "23    Ages 6-12                        Wood Earle B Middle School   \n",
      "35   Ages 10-18           Bauer Drive Community Recreation Center   \n",
      "36   Ages 14-16           Bauer Drive Community Recreation Center   \n",
      "49   Ages 13-21                        Wood Earle B Middle School   \n",
      "73    Ages 6-12                        Wood Earle B Middle School   \n",
      "94    Ages 6-12  Nancy H Dacek North Potomac Community Rec Center   \n",
      "95    Ages 6-12                        Wood Earle B Middle School   \n",
      "114   Ages 8-15                                      Camp Olympia   \n",
      "123  Ages 13-21                        Wood Earle B Middle School   \n",
      "132   Ages 6-12  Nancy H Dacek North Potomac Community Rec Center   \n",
      "174   Ages 6-12  Nancy H Dacek North Potomac Community Rec Center   \n",
      "192   Ages 6-12  Nancy H Dacek North Potomac Community Rec Center   \n",
      "214  Ages 13-21                        Wood Earle B Middle School   \n",
      "217    Ages 7-9                                   School of Music   \n",
      "222   Ages 8-15                                      Camp Olympia   \n",
      "227  Ages 13-21                        Wood Earle B Middle School   \n",
      "244  Ages 14-16           Bauer Drive Community Recreation Center   \n",
      "261   Ages 6-12                        Wood Earle B Middle School   \n",
      "267   Ages 7-12                          Rock Creek Regional Park   \n",
      "275  Ages 10-18           Bauer Drive Community Recreation Center   \n",
      "282  Ages 13-21                        Wood Earle B Middle School   \n",
      "295   Ages 6-12           Bauer Drive Community Recreation Center   \n",
      "306   Ages 6-12                   Wheaton Woods Elementary School   \n",
      "314   Ages 6-12  Nancy H Dacek North Potomac Community Rec Center   \n",
      "315   Ages 6-12  Nancy H Dacek North Potomac Community Rec Center   \n",
      "316   Ages 8-15                                      Camp Olympia   \n",
      "317   Ages 6-12           Bauer Drive Community Recreation Center   \n",
      "335   Ages 6-12                        Wood Earle B Middle School   \n",
      "338   Ages 8-15                                      Camp Olympia   \n",
      "339   Ages 6-12           Bauer Drive Community Recreation Center   \n",
      "\n",
      "                        Address       City State      Zip  Start Date  \\\n",
      "12          13850 Travilah Road  Rockville    MD  20850.0  06/27/2022   \n",
      "14            14625 Bauer Drive  Rockville    MD  20853.0  06/27/2022   \n",
      "15            14625 Bauer Drive  Rockville    MD  20853.0  07/25/2022   \n",
      "16          13850 Travilah Road  Rockville    MD  20850.0  07/18/2022   \n",
      "20          1331 Rockville Pike  Rockville    MD  20852.0  07/11/2022   \n",
      "23               14615 Bauer DR  Rockville    MD  20853.0  07/05/2022   \n",
      "35            14625 Bauer Drive  Rockville    MD  20853.0  07/18/2022   \n",
      "36            14625 Bauer Drive  Rockville    MD  20853.0  07/05/2022   \n",
      "49               14615 Bauer DR  Rockville    MD  20853.0  08/01/2022   \n",
      "73               14615 Bauer DR  Rockville    MD  20853.0  08/08/2022   \n",
      "94          13850 Travilah Road  Rockville    MD  20850.0  07/25/2022   \n",
      "95               14615 Bauer DR  Rockville    MD  20853.0  07/05/2022   \n",
      "114    5511 Muncaster Mill Road  Rockville    MD  20855.0  07/18/2022   \n",
      "123              14615 Bauer DR  Rockville    MD  20853.0  07/05/2022   \n",
      "132         13850 Travilah Road  Rockville    MD  20850.0  07/11/2022   \n",
      "174         13850 Travilah Road  Rockville    MD  20850.0  06/21/2022   \n",
      "192         13850 Travilah Road  Rockville    MD  20850.0  07/05/2022   \n",
      "214              14615 Bauer DR  Rockville    MD  20853.0  06/27/2022   \n",
      "217         1331 Rockville Pike  Rockville    MD  20852.0  07/18/2022   \n",
      "222    5511 Muncaster Mill Road  Rockville    MD  20855.0  07/05/2022   \n",
      "227              14615 Bauer DR  Rockville    MD  20853.0  08/08/2022   \n",
      "244           14625 Bauer Drive  Rockville    MD  20853.0  07/11/2022   \n",
      "261              14615 Bauer DR  Rockville    MD  20853.0  06/27/2022   \n",
      "267  15700 Needwood Lake Circle  Rockville    MD  20855.0  06/27/2022   \n",
      "275           14625 Bauer Drive  Rockville    MD  20853.0  08/15/2022   \n",
      "282              14615 Bauer DR  Rockville    MD  20853.0  07/05/2022   \n",
      "295           14625 Bauer Drive  Rockville    MD  20853.0  07/11/2022   \n",
      "306               4510 Faroe PL  Rockville    MD  20853.0  07/05/2022   \n",
      "314         13850 Travilah Road  Rockville    MD  20850.0  08/01/2022   \n",
      "315         13850 Travilah Road  Rockville    MD  20850.0  06/21/2022   \n",
      "316    5511 Muncaster Mill Road  Rockville    MD  20855.0  07/05/2022   \n",
      "317           14625 Bauer Drive  Rockville    MD  20853.0  08/08/2022   \n",
      "335              14615 Bauer DR  Rockville    MD  20853.0  08/01/2022   \n",
      "338    5511 Muncaster Mill Road  Rockville    MD  20855.0  07/18/2022   \n",
      "339           14625 Bauer Drive  Rockville    MD  20853.0  07/05/2022   \n",
      "\n",
      "       End Date Start Time  End Time  Sessions Days of the Week  Cost  \\\n",
      "12   07/01/2022    9:00 am   3:30 pm         4         M,W,Th,F   200   \n",
      "14   07/01/2022    9:00 am  12:00 PM         4      M,Tu,W,Th,F   140   \n",
      "15   08/05/2022    9:30 am   3:00 pm        10      M,Tu,W,Th,F    50   \n",
      "16   07/22/2022    9:00 am   3:30 pm         5      M,Tu,W,Th,F   225   \n",
      "20   07/15/2022   12:00 PM   3:00 pm         5      M,Tu,W,Th,F   175   \n",
      "23   07/29/2022   12:30 PM   5:30 pm        19      M,Tu,W,Th,F   168   \n",
      "35   07/22/2022    9:00 am  12:00 PM         5      M,Tu,W,Th,F   175   \n",
      "36   07/08/2022    9:30 am   3:00 pm         4      M,Tu,W,Th,F    20   \n",
      "49   08/05/2022    9:00 am   4:00 pm         5      M,Tu,W,Th,F    65   \n",
      "73   08/12/2022    9:00 am   4:00 pm         5      M,Tu,W,Th,F    65   \n",
      "94   07/29/2022    9:00 am   3:30 pm         5      M,Tu,W,Th,F   225   \n",
      "95   07/29/2022    9:00 am   4:00 pm        19      M,Tu,W,Th,F   236   \n",
      "114  07/22/2022    9:15 am   3:30 pm         5      M,Tu,W,Th,F   460   \n",
      "123  07/29/2022    9:00 am   4:00 pm        19      M,Tu,W,Th,F   236   \n",
      "132  07/15/2022    9:00 am   3:30 pm         5      M,Tu,W,Th,F   225   \n",
      "174  08/05/2022    9:00 am   3:30 pm        33      M,Tu,W,Th,F  1425   \n",
      "192  07/08/2022    9:00 am   3:30 pm         4        Tu,W,Th,F   200   \n",
      "214  07/01/2022    9:00 am   4:00 pm         5      M,Tu,W,Th,F    52   \n",
      "217  07/22/2022   12:00 PM   3:00 pm         5      M,Tu,W,Th,F   175   \n",
      "222  07/08/2022    9:15 am   3:30 pm         4        Tu,W,Th,F   368   \n",
      "227  08/12/2022    9:00 am   4:00 pm         5      M,Tu,W,Th,F    65   \n",
      "244  07/22/2022    9:30 am   3:00 pm        10      M,Tu,W,Th,F    50   \n",
      "261  07/01/2022    9:00 am   4:00 pm         5      M,Tu,W,Th,F    52   \n",
      "267  08/05/2022    9:00 am   3:00 pm        30      M,Tu,W,Th,F   235   \n",
      "275  08/19/2022    9:00 am  12:00 PM         5      M,Tu,W,Th,F   175   \n",
      "282  07/29/2022   12:30 PM   5:30 pm        19      M,Tu,W,Th,F   168   \n",
      "295  07/15/2022    9:00 am  12:00 PM         5      M,Tu,W,Th,F   155   \n",
      "306  08/05/2022    2:00 pm   6:00 pm        24      M,Tu,W,Th,F   125   \n",
      "314  08/05/2022    9:00 am   3:30 pm         5      M,Tu,W,Th,F   225   \n",
      "315  06/24/2022    9:00 am   3:30 pm         4        Tu,W,Th,F   200   \n",
      "316  07/08/2022    9:15 am   3:30 pm         4        Tu,W,Th,F   444   \n",
      "317  08/12/2022    9:00 am  12:00 PM         5      M,Tu,W,Th,F   155   \n",
      "335  08/05/2022    9:00 am   4:00 pm         5      M,Tu,W,Th,F    65   \n",
      "338  07/22/2022    9:15 am   3:30 pm         5      M,Tu,W,Th,F   555   \n",
      "339  08/05/2022    8:00 am   6:00 pm        24      M,Tu,W,Th,F   332   \n",
      "\n",
      "                                      Address/Location  \n",
      "12   13850 Travilah Road\\nRockville, MD 20850\\n(39....  \n",
      "14   14625 Bauer Drive\\nRockville, MD 20853\\n(39.09...  \n",
      "15   14625 Bauer Drive\\nRockville, MD 20853\\n(39.09...  \n",
      "16   13850 Travilah Road\\nRockville, MD 20850\\n(39....  \n",
      "20   1331 Rockville Pike\\nRockville, MD 20852\\n(39....  \n",
      "23   14615 Bauer DR\\nRockville, MD 20853\\n(39.09341...  \n",
      "35   14625 Bauer Drive\\nRockville, MD 20853\\n(39.09...  \n",
      "36   14625 Bauer Drive\\nRockville, MD 20853\\n(39.09...  \n",
      "49   14615 Bauer DR\\nRockville, MD 20853\\n(39.09341...  \n",
      "73   14615 Bauer DR\\nRockville, MD 20853\\n(39.09341...  \n",
      "94   13850 Travilah Road\\nRockville, MD 20850\\n(39....  \n",
      "95   14615 Bauer DR\\nRockville, MD 20853\\n(39.09341...  \n",
      "114  5511 Muncaster Mill Road\\nRockville, MD 20855\\...  \n",
      "123  14615 Bauer DR\\nRockville, MD 20853\\n(39.09341...  \n",
      "132  13850 Travilah Road\\nRockville, MD 20850\\n(39....  \n",
      "174  13850 Travilah Road\\nRockville, MD 20850\\n(39....  \n",
      "192  13850 Travilah Road\\nRockville, MD 20850\\n(39....  \n",
      "214  14615 Bauer DR\\nRockville, MD 20853\\n(39.09341...  \n",
      "217  1331 Rockville Pike\\nRockville, MD 20852\\n(39....  \n",
      "222  5511 Muncaster Mill Road\\nRockville, MD 20855\\...  \n",
      "227  14615 Bauer DR\\nRockville, MD 20853\\n(39.09341...  \n",
      "244  14625 Bauer Drive\\nRockville, MD 20853\\n(39.09...  \n",
      "261  14615 Bauer DR\\nRockville, MD 20853\\n(39.09341...  \n",
      "267  15700 Needwood Lake Circle\\nRockville, MD 2085...  \n",
      "275  14625 Bauer Drive\\nRockville, MD 20853\\n(39.09...  \n",
      "282  14615 Bauer DR\\nRockville, MD 20853\\n(39.09341...  \n",
      "295  14625 Bauer Drive\\nRockville, MD 20853\\n(39.09...  \n",
      "306  4510 Faroe PL\\nRockville, MD 20853\\n(39.068883...  \n",
      "314  13850 Travilah Road\\nRockville, MD 20850\\n(39....  \n",
      "315  13850 Travilah Road\\nRockville, MD 20850\\n(39....  \n",
      "316  5511 Muncaster Mill Road\\nRockville, MD 20855\\...  \n",
      "317  14625 Bauer Drive\\nRockville, MD 20853\\n(39.09...  \n",
      "335  14615 Bauer DR\\nRockville, MD 20853\\n(39.09341...  \n",
      "338  5511 Muncaster Mill Road\\nRockville, MD 20855\\...  \n",
      "339  14625 Bauer Drive\\nRockville, MD 20853\\n(39.09...  \n"
     ]
    }
   ],
   "source": [
    "print(example)"
   ]
  },
  {
   "cell_type": "code",
   "execution_count": 35,
   "id": "982a6069",
   "metadata": {},
   "outputs": [],
   "source": [
    "example2 = rec_df[(rec_df.City == 'Rockville') | (rec_df.City == 'Potomac')]"
   ]
  },
  {
   "cell_type": "code",
   "execution_count": 36,
   "id": "f4561ed6",
   "metadata": {},
   "outputs": [
    {
     "name": "stdout",
     "output_type": "stream",
     "text": [
      "    Season Primary Category                  Secondary Category  \\\n",
      "0     Camp            Camps                  Specialty Programs   \n",
      "1     Camp            Camps                     Arts and Crafts   \n",
      "12    Camp            Camps                        Multi-Sports   \n",
      "14    Camp            Camps                               Rugby   \n",
      "15    Camp            Camps  Service Learning Opportunities SSL   \n",
      "..     ...              ...                                 ...   \n",
      "334   Camp            Camps                          Volleyball   \n",
      "335   Camp            Camps      Therapeutic Recreation Program   \n",
      "337   Camp            Camps                  Specialty Programs   \n",
      "338   Camp            Camps                  Specialty Programs   \n",
      "339   Camp            Camps                   Summer Fun Center   \n",
      "\n",
      "                                          ActivityName  \\\n",
      "0                         CORE American Girl Doll Camp   \n",
      "1                                        Treasure Hunt   \n",
      "12   Jump Start Sports Wk 2 Sports Camp - Ultimate ...   \n",
      "14                    Introduction to Tackle Rugby 101   \n",
      "15                     Jr. Counselor - Bauer Drive SFC   \n",
      "..                                                 ...   \n",
      "334                OLVA Volleyball Camp: P.M. Half Day   \n",
      "335             TR Summer Fun Zone Wrap Around - Youth   \n",
      "337  Coach Doug Summer Camp Adventures Wk 3 Extende...   \n",
      "338                              Horseback Riding Camp   \n",
      "339                 Summer Fun Center - Bauer Drive RC   \n",
      "\n",
      "                                           Description ActivityNumber  \\\n",
      "0    This camp is hands-on and full of easy crafts....     R05301_401   \n",
      "1    For program description click on each activity...     R05130_412   \n",
      "12   Join Jump Start Sports for a fun all-around su...     R05063_403   \n",
      "14   Introduction to Rugby 101 taught by Bethesda R...     R05098_404   \n",
      "15   See what it takes to be a camp counselor by be...     R03011_433   \n",
      "..                                                 ...            ...   \n",
      "334  Develop fundamental passing, setting, spiking ...     R05123_407   \n",
      "335  TR Summer Fun Zone - for individuals with disa...     R06001_406   \n",
      "337  The camp is developed and directed by Coach Do...     R05026_412   \n",
      "338  Children will ride, swim every day, and do var...     R05056_402   \n",
      "339  Summer Fun Centers are one of the many Montgom...     R03006_411   \n",
      "\n",
      "           Ages                                          Location  \\\n",
      "0     Ages 6-11               Potomac Community Recreation Center   \n",
      "1      Ages 3-5               Potomac Community Recreation Center   \n",
      "12    Ages 6-12  Nancy H Dacek North Potomac Community Rec Center   \n",
      "14   Ages 10-18           Bauer Drive Community Recreation Center   \n",
      "15   Ages 14-16           Bauer Drive Community Recreation Center   \n",
      "..          ...                                               ...   \n",
      "334   Ages 8-17               Potomac Community Recreation Center   \n",
      "335   Ages 6-12                        Wood Earle B Middle School   \n",
      "337  Ages 5- 12                           Tilden Woods Local Park   \n",
      "338   Ages 8-15                                      Camp Olympia   \n",
      "339   Ages 6-12           Bauer Drive Community Recreation Center   \n",
      "\n",
      "                      Address       City State      Zip  Start Date  \\\n",
      "0            11315 Falls Road    Potomac    MD  20854.0  06/21/2022   \n",
      "1            11315 Falls Road    Potomac    MD  20854.0  08/15/2022   \n",
      "12        13850 Travilah Road  Rockville    MD  20850.0  06/27/2022   \n",
      "14          14625 Bauer Drive  Rockville    MD  20853.0  06/27/2022   \n",
      "15          14625 Bauer Drive  Rockville    MD  20853.0  07/25/2022   \n",
      "..                        ...        ...   ...      ...         ...   \n",
      "334          11315 Falls Road    Potomac    MD  20854.0  07/11/2022   \n",
      "335            14615 Bauer DR  Rockville    MD  20853.0  08/01/2022   \n",
      "337            6800 Tilden LN    Potomac    MD  20852.0  07/05/2022   \n",
      "338  5511 Muncaster Mill Road  Rockville    MD  20855.0  07/18/2022   \n",
      "339         14625 Bauer Drive  Rockville    MD  20853.0  07/05/2022   \n",
      "\n",
      "       End Date Start Time  End Time  Sessions Days of the Week  Cost  \\\n",
      "0    06/24/2022    9:00 am  12:00 PM         4        Tu,W,Th,F   160   \n",
      "1    08/19/2022    9:00 am  12:00 PM         5      M,Tu,W,Th,F   235   \n",
      "12   07/01/2022    9:00 am   3:30 pm         4         M,W,Th,F   200   \n",
      "14   07/01/2022    9:00 am  12:00 PM         4      M,Tu,W,Th,F   140   \n",
      "15   08/05/2022    9:30 am   3:00 pm        10      M,Tu,W,Th,F    50   \n",
      "..          ...        ...       ...       ...              ...   ...   \n",
      "334  07/15/2022    1:00 pm   4:00 pm         5      M,Tu,W,Th,F   155   \n",
      "335  08/05/2022    9:00 am   4:00 pm         5      M,Tu,W,Th,F    65   \n",
      "337  07/08/2022    3:30 pm   6:00 pm         4        Tu,W,Th,F    43   \n",
      "338  07/22/2022    9:15 am   3:30 pm         5      M,Tu,W,Th,F   555   \n",
      "339  08/05/2022    8:00 am   6:00 pm        24      M,Tu,W,Th,F   332   \n",
      "\n",
      "                                      Address/Location  \n",
      "0    11315 Falls Road\\nPotomac, MD 20854\\n(39.04122...  \n",
      "1    11315 Falls Road\\nPotomac, MD 20854\\n(39.04122...  \n",
      "12   13850 Travilah Road\\nRockville, MD 20850\\n(39....  \n",
      "14   14625 Bauer Drive\\nRockville, MD 20853\\n(39.09...  \n",
      "15   14625 Bauer Drive\\nRockville, MD 20853\\n(39.09...  \n",
      "..                                                 ...  \n",
      "334  11315 Falls Road\\nPotomac, MD 20854\\n(39.04122...  \n",
      "335  14615 Bauer DR\\nRockville, MD 20853\\n(39.09341...  \n",
      "337  6800 Tilden LN\\nPotomac, MD 20852\\n(39.044118,...  \n",
      "338  5511 Muncaster Mill Road\\nRockville, MD 20855\\...  \n",
      "339  14625 Bauer Drive\\nRockville, MD 20853\\n(39.09...  \n",
      "\n",
      "[99 rows x 20 columns]\n"
     ]
    }
   ],
   "source": [
    "print(example2)"
   ]
  },
  {
   "cell_type": "code",
   "execution_count": 38,
   "id": "86958e62",
   "metadata": {},
   "outputs": [],
   "source": [
    "multiple_rows_with_logic = rec_df[rec_df.City.isin(['Rockville', 'Potomac', 'Silver Spring'])]"
   ]
  },
  {
   "cell_type": "code",
   "execution_count": 43,
   "id": "bb8547d2",
   "metadata": {},
   "outputs": [],
   "source": [
    "multiple_rows_with_logic.reset_index(inplace=True, drop=True)"
   ]
  },
  {
   "cell_type": "code",
   "execution_count": 44,
   "id": "41453979",
   "metadata": {},
   "outputs": [
    {
     "name": "stdout",
     "output_type": "stream",
     "text": [
      "    Season Primary Category              Secondary Category  \\\n",
      "0     Camp            Camps              Specialty Programs   \n",
      "1     Camp            Camps                 Arts and Crafts   \n",
      "2     Camp            Camps  Therapeutic Recreation Program   \n",
      "3     Camp            Camps                    Multi-Sports   \n",
      "4     Camp            Camps                    Multi-Sports   \n",
      "..     ...              ...                             ...   \n",
      "166   Camp            Camps                      Volleyball   \n",
      "167   Camp            Camps  Therapeutic Recreation Program   \n",
      "168   Camp            Camps              Specialty Programs   \n",
      "169   Camp            Camps              Specialty Programs   \n",
      "170   Camp            Camps               Summer Fun Center   \n",
      "\n",
      "                                          ActivityName  \\\n",
      "0                         CORE American Girl Doll Camp   \n",
      "1                                        Treasure Hunt   \n",
      "2                                 TR Splash Camp 13-21   \n",
      "3                Overtime Athletics Summer Sports Camp   \n",
      "4    Jump Start Sports Wk 2 Sports Camp - Ultimate ...   \n",
      "..                                                 ...   \n",
      "166                OLVA Volleyball Camp: P.M. Half Day   \n",
      "167             TR Summer Fun Zone Wrap Around - Youth   \n",
      "168  Coach Doug Summer Camp Adventures Wk 3 Extende...   \n",
      "169                              Horseback Riding Camp   \n",
      "170                 Summer Fun Center - Bauer Drive RC   \n",
      "\n",
      "                                           Description ActivityNumber  \\\n",
      "0    This camp is hands-on and full of easy crafts....     R05301_401   \n",
      "1    For program description click on each activity...     R05130_412   \n",
      "2    TR Splash Camp: Enjoy Games, Sports, Arts & Cr...     R06016_402   \n",
      "3    This camp combines the best parts of a sports ...     R05292_407   \n",
      "4    Join Jump Start Sports for a fun all-around su...     R05063_403   \n",
      "..                                                 ...            ...   \n",
      "166  Develop fundamental passing, setting, spiking ...     R05123_407   \n",
      "167  TR Summer Fun Zone - for individuals with disa...     R06001_406   \n",
      "168  The camp is developed and directed by Coach Do...     R05026_412   \n",
      "169  Children will ride, swim every day, and do var...     R05056_402   \n",
      "170  Summer Fun Centers are one of the many Montgom...     R03006_411   \n",
      "\n",
      "           Ages                                          Location  \\\n",
      "0     Ages 6-11               Potomac Community Recreation Center   \n",
      "1      Ages 3-5               Potomac Community Recreation Center   \n",
      "2    Ages 13-21          Good Hope Neighborhood Recreation Center   \n",
      "3     Ages 5-13                  Sligo - Dennis Avenue Local Park   \n",
      "4     Ages 6-12  Nancy H Dacek North Potomac Community Rec Center   \n",
      "..          ...                                               ...   \n",
      "166   Ages 8-17               Potomac Community Recreation Center   \n",
      "167   Ages 6-12                        Wood Earle B Middle School   \n",
      "168  Ages 5- 12                           Tilden Woods Local Park   \n",
      "169   Ages 8-15                                      Camp Olympia   \n",
      "170   Ages 6-12           Bauer Drive Community Recreation Center   \n",
      "\n",
      "                      Address           City State      Zip  Start Date  \\\n",
      "0            11315 Falls Road        Potomac    MD  20854.0  06/21/2022   \n",
      "1            11315 Falls Road        Potomac    MD  20854.0  08/15/2022   \n",
      "2        14715 Good Hope Road  Silver Spring    MD  20905.0  08/08/2022   \n",
      "3       10200 Sligo Creek PKY  Silver Spring    MD  20901.0  08/01/2022   \n",
      "4         13850 Travilah Road      Rockville    MD  20850.0  06/27/2022   \n",
      "..                        ...            ...   ...      ...         ...   \n",
      "166          11315 Falls Road        Potomac    MD  20854.0  07/11/2022   \n",
      "167            14615 Bauer DR      Rockville    MD  20853.0  08/01/2022   \n",
      "168            6800 Tilden LN        Potomac    MD  20852.0  07/05/2022   \n",
      "169  5511 Muncaster Mill Road      Rockville    MD  20855.0  07/18/2022   \n",
      "170         14625 Bauer Drive      Rockville    MD  20853.0  07/05/2022   \n",
      "\n",
      "       End Date Start Time  End Time  Sessions Days of the Week  Cost  \\\n",
      "0    06/24/2022    9:00 am  12:00 PM         4        Tu,W,Th,F   160   \n",
      "1    08/19/2022    9:00 am  12:00 PM         5      M,Tu,W,Th,F   235   \n",
      "2    08/12/2022    9:00 am   4:00 pm         5      M,Tu,W,Th,F    65   \n",
      "3    08/05/2022    8:00 am   4:00 pm         5      M,Tu,W,Th,F   235   \n",
      "4    07/01/2022    9:00 am   3:30 pm         4         M,W,Th,F   200   \n",
      "..          ...        ...       ...       ...              ...   ...   \n",
      "166  07/15/2022    1:00 pm   4:00 pm         5      M,Tu,W,Th,F   155   \n",
      "167  08/05/2022    9:00 am   4:00 pm         5      M,Tu,W,Th,F    65   \n",
      "168  07/08/2022    3:30 pm   6:00 pm         4        Tu,W,Th,F    43   \n",
      "169  07/22/2022    9:15 am   3:30 pm         5      M,Tu,W,Th,F   555   \n",
      "170  08/05/2022    8:00 am   6:00 pm        24      M,Tu,W,Th,F   332   \n",
      "\n",
      "                                      Address/Location  \n",
      "0    11315 Falls Road\\nPotomac, MD 20854\\n(39.04122...  \n",
      "1    11315 Falls Road\\nPotomac, MD 20854\\n(39.04122...  \n",
      "2    14715 Good Hope Road\\nSilver Spring, MD 20905\\...  \n",
      "3    10200 Sligo Creek PKY\\nSilver Spring, MD 20901...  \n",
      "4    13850 Travilah Road\\nRockville, MD 20850\\n(39....  \n",
      "..                                                 ...  \n",
      "166  11315 Falls Road\\nPotomac, MD 20854\\n(39.04122...  \n",
      "167  14615 Bauer DR\\nRockville, MD 20853\\n(39.09341...  \n",
      "168  6800 Tilden LN\\nPotomac, MD 20852\\n(39.044118,...  \n",
      "169  5511 Muncaster Mill Road\\nRockville, MD 20855\\...  \n",
      "170  14625 Bauer Drive\\nRockville, MD 20853\\n(39.09...  \n",
      "\n",
      "[171 rows x 20 columns]\n"
     ]
    }
   ],
   "source": [
    "print(multiple_rows_with_logic)"
   ]
  },
  {
   "cell_type": "code",
   "execution_count": null,
   "id": "d52c5f92",
   "metadata": {},
   "outputs": [],
   "source": []
  }
 ],
 "metadata": {
  "kernelspec": {
   "display_name": "Python 3",
   "language": "python",
   "name": "python3"
  },
  "language_info": {
   "codemirror_mode": {
    "name": "ipython",
    "version": 3
   },
   "file_extension": ".py",
   "mimetype": "text/x-python",
   "name": "python",
   "nbconvert_exporter": "python",
   "pygments_lexer": "ipython3",
   "version": "3.8.8"
  }
 },
 "nbformat": 4,
 "nbformat_minor": 5
}
